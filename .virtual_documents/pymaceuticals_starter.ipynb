


# Dependencies and Setup
import matplotlib.pyplot as plt
import pandas as pd
import scipy.stats as st
import numpy as np

# Study data files
mouse_metadata_path = "data/Mouse_metadata.csv"
study_results_path = "data/Study_results.csv"

# Read the mouse data and the study results
mouse_metadata = pd.read_csv(mouse_metadata_path)
study_results = pd.read_csv(study_results_path)

# Combine the data into a single DataFrame
mouse_study = mouse_metadata.merge(study_results,how="outer",on="Mouse ID")

# Display the data table for preview
mouse_study.head()


# Checking the number of mice.
len(mouse_study["Mouse ID"].unique())


# Our data should be uniquely identified by Mouse ID and Timepoint
# Get the duplicate mice by ID number that shows up for Mouse ID and Timepoint. 
dup_mice = mouse_study["Mouse ID"][mouse_study.duplicated(["Mouse ID","Timepoint"])]
dup_mice = dup_mice.unique()
dup_mice


# Optional: Get all the data for the duplicate mouse ID. 
# assuming only one duplicate mouse
mouse_study[mouse_study["Mouse ID"] == dup_mice[0]]



# Create a clean DataFrame by dropping the duplicate mouse by its ID.
# assuming one duplicate mouse
clean_mouseStudy = mouse_study.drop(mouse_study[mouse_study["Mouse ID"] == dup_mice[0]].index)


# Checking the number of mice in the clean DataFrame.
len(clean_mouseStudy["Mouse ID"].unique())





# Generate a summary statistics table of mean, median, variance, standard deviation, and SEM of the tumor volume for each regimen

# Use groupby and summary statistical methods to calculate the following properties of each drug regimen: 
# mean, median, variance, standard deviation, and SEM of the tumor volume. 
# Assemble the resulting series into a single summary DataFrame.
#drug_gb = clean_mouseStudy.groupby(["Drug Regimen"])

#drug_gb["Tumor Volume (mm3)"].aggregate(["mean","median","var","std","sem"])




# A more advanced method to generate a summary statistics table of mean, median, variance, standard deviation,
# and SEM of the tumor volume for each regimen (only one method is required in the solution)

# Using the aggregation method, produce the same summary statistics in a single line
clean_mouseStudy.groupby(["Drug Regimen"])["Tumor Volume (mm3)"].aggregate(["mean","median","var","std","sem"])





# Generate a bar plot showing the total number of rows (Mouse ID/Timepoints) for each drug regimen using Pandas.
clean_mouseStudy.groupby(["Drug Regimen"])["Mouse ID"].count().sort_values(ascending=False).plot(kind='bar')

# Formatting
plt.ylabel("# of Observed Mouse Timepoints")
plt.title("Total Number of Rows (Mouse ID/Timepoints) for each Drug Regimen")
plt.show()




# Generate a bar plot showing the total number of rows (Mouse ID/Timepoints) for each drug regimen using pyplot.
drug_counts = clean_mouseStudy.groupby(["Drug Regimen"])["Mouse ID"].count().sort_values(ascending=False)

# Set x axis and tick locations
x_axis = np.arange(len(drug_counts))
tick_locations = [val for val in x_axis]

# Create a list
plt.bar(x_axis, drug_counts)

# Formatting
plt.xticks(tick_locations, drug_counts.index, rotation="vertical")
plt.xlabel("Drug Regimen")
plt.ylabel("# of Observed Mouse Timepoints")
plt.title("Total Number of Rows (Mouse ID/Timepoints) for each Drug Regimen")
plt.show()



# Generate a pie plot showing the distribution of female versus male mice using Pandas
MS_by_sex = clean_mouseStudy.groupby(["Sex"]).count()["Mouse ID"].sort_values(ascending=False)
MS_by_sex


MS_by_sex.plot.pie(y="Sex",autopct='%1.1f%%')

# Formatting
plt.ylabel("Sex")
plt.title("Distribution of F/M mice")
plt.show()


# Generate a pie plot showing the distribution of female versus male mice using pyplot

fig, ax = plt.subplots()
ax.pie(MS_by_sex,autopct='%1.1f%%',labels=MS_by_sex.index)

# Formatting
plt.ylabel("Sex")
plt.title("Distribution of F/M mice")
plt.show()





# Calculate the final tumor volume of each mouse across four of the treatment regimens:  
# Capomulin, Ramicane, Infubinol, and Ceftamin

# Start by getting the last (greatest) timepoint for each mouse


# Merge this group df with the original DataFrame to get the tumor volume at the last timepoint



# Put treatments into a list for for loop (and later for plot labels)


# Create empty list to fill with tumor vol data (for plotting)


# Calculate the IQR and quantitatively determine if there are any potential outliers. 

    
    # Locate the rows which contain mice on each drug and get the tumor volumes

    
    # add subset 

    
    # Determine outliers using upper and lower bounds



# Generate a box plot that shows the distrubution of the tumor volume for each treatment group.






# Generate a line plot of tumor volume vs. time point for a single mouse treated with Capomulin



# Generate a scatter plot of mouse weight vs. the average observed tumor volume for the entire Capomulin regimen






# Calculate the correlation coefficient and a linear regression model 
# for mouse weight and average observed tumor volume for the entire Capomulin regimen




